{
 "cells": [
  {
   "cell_type": "code",
   "execution_count": 1,
   "id": "8db7cfb9",
   "metadata": {},
   "outputs": [],
   "source": [
    "import pyttsx3"
   ]
  },
  {
   "cell_type": "code",
   "execution_count": 2,
   "id": "f62787e4",
   "metadata": {},
   "outputs": [],
   "source": [
    "a=pyttsx3.init()"
   ]
  },
  {
   "cell_type": "code",
   "execution_count": 3,
   "id": "64fbb180",
   "metadata": {},
   "outputs": [],
   "source": [
    "import speech_recognition as sr\n",
    "\n",
    "r = sr.Recognizer()"
   ]
  },
  {
   "cell_type": "code",
   "execution_count": 60,
   "id": "792e80a7",
   "metadata": {},
   "outputs": [
    {
     "name": "stdout",
     "output_type": "stream",
     "text": [
      "Listening......\n",
      "do you do\n"
     ]
    }
   ],
   "source": [
    "import pyaudio\n",
    "\n",
    "with sr.Microphone() as source:\n",
    "    \n",
    "    r.adjust_for_ambient_noise(source)\n",
    "    r.pause_threshold=1\n",
    "    print(\"Listening......\")\n",
    "    audio=r.listen(source) \n",
    "try:\n",
    "    text=r.recognize_google(audio)\n",
    "    print(text)\n",
    "    g=['hello','hi there']\n",
    "    q=['what do you do']\n",
    "    \n",
    "    if text in g:\n",
    "        a.say(\"Hi nice to meet you\")\n",
    "        a.runAndWait()\n",
    "    elif text in q :\n",
    "        a.say(\"I am here to help you with every news about the world\")\n",
    "        a.runAndWait() \n",
    "    else :\n",
    "        a.say(\"ask other question\")\n",
    "        a.runAndWait()\n",
    "except:\n",
    "    print(\" Can't understand \")\n",
    "        \n"
   ]
  },
  {
   "cell_type": "code",
   "execution_count": null,
   "id": "ad978b63",
   "metadata": {},
   "outputs": [],
   "source": []
  }
 ],
 "metadata": {
  "kernelspec": {
   "display_name": "Python 3",
   "language": "python",
   "name": "python3"
  },
  "language_info": {
   "codemirror_mode": {
    "name": "ipython",
    "version": 3
   },
   "file_extension": ".py",
   "mimetype": "text/x-python",
   "name": "python",
   "nbconvert_exporter": "python",
   "pygments_lexer": "ipython3",
   "version": "3.8.8"
  }
 },
 "nbformat": 4,
 "nbformat_minor": 5
}
